{
 "cells": [
  {
   "cell_type": "markdown",
   "id": "37aff6a6-4896-423c-9ebe-01b8405034ce",
   "metadata": {},
   "source": [
    "This notebook is mainly for checking scores of all models at one place. Can also be removed later. "
   ]
  },
  {
   "cell_type": "code",
   "execution_count": 1,
   "id": "c6cabc18-ba57-40c1-92ce-2cac5a074703",
   "metadata": {},
   "outputs": [],
   "source": [
    "import pandas as pd \n",
    "from glob import glob"
   ]
  },
  {
   "cell_type": "code",
   "execution_count": 2,
   "id": "cc507749-bb98-4277-bc7b-98b0413c568d",
   "metadata": {},
   "outputs": [
    {
     "name": "stdout",
     "output_type": "stream",
     "text": [
      "res_models/accuracies\n",
      "['res_models/accuracies/acc_IMDB_distbase', 'res_models/accuracies/acc_Twitter_bertbase', 'res_models/accuracies/acc_IMDB_bertbase', 'res_models/accuracies/acc_IMDB_bertlarge']\n"
     ]
    }
   ],
   "source": [
    "path_ = \"res_models/accuracies\"\n",
    "print(path_)\n",
    "#filenames = next(walk(path_), (None, [], None))[1]  # [] if no file\n",
    "filenames = glob(path_ + '/*')\n",
    "print(filenames)"
   ]
  },
  {
   "cell_type": "code",
   "execution_count": 6,
   "id": "3548767b-345a-4382-a1cd-4e0eab22b8d5",
   "metadata": {},
   "outputs": [
    {
     "name": "stdout",
     "output_type": "stream",
     "text": [
      "IMDB_distbase\n",
      "    accuracy  precision   recall        f1 data set      spec\n",
      "0    0.89392   0.856192  0.94688  0.899255     spec     N_pro\n",
      "1    0.89596   0.861040  0.94432  0.900759      all     N_pro\n",
      "2    0.92876   0.933301  0.92352  0.928385     spec    N_weat\n",
      "3    0.92832   0.935285  0.92032  0.927742      all    N_weat\n",
      "4    0.92780   0.931772  0.92320  0.927466     spec     N_all\n",
      "5    0.92772   0.931065  0.92384  0.927438      all     N_all\n",
      "6    0.92348   0.928623  0.91748  0.923018     spec   mix_pro\n",
      "7    0.92344   0.928375  0.91768  0.922996      all   mix_pro\n",
      "8    0.91038   0.882746  0.94648  0.913503     spec  mix_weat\n",
      "9    0.90992   0.881307  0.94744  0.913178      all  mix_weat\n",
      "10   0.91132   0.911287  0.91136  0.911324     spec   mix_all\n",
      "11   0.91076   0.910793  0.91072  0.910756      all   mix_all\n",
      "12   0.90476   0.888147  0.92616  0.906755     spec  original\n",
      "13   0.90476   0.888147  0.92616  0.906755      all  original\n",
      "Twitter_bertbase\n",
      "    accuracy  precision    recall        f1 data set      spec\n",
      "0   0.795758   0.890913  0.673946  0.767388     spec     N_pro\n",
      "1   0.795871   0.891142  0.673983  0.767498      all     N_pro\n",
      "2   0.813855   0.788488  0.857709  0.821643     spec    N_weat\n",
      "3   0.814086   0.788968  0.857436  0.821779      all    N_weat\n",
      "4   0.803529   0.778769  0.847817  0.811827     spec     N_all\n",
      "5   0.804100   0.779284  0.848407  0.812378      all     N_all\n",
      "6   0.816686   0.833676  0.791127  0.811844     spec   mix_pro\n",
      "7   0.816695   0.833686  0.791134  0.811853      all   mix_pro\n",
      "8   0.812717   0.811308  0.814874  0.813087     spec  mix_weat\n",
      "9   0.812749   0.811386  0.814829  0.813104      all  mix_weat\n",
      "10  0.781057   0.723541  0.909550  0.805952     spec   mix_all\n",
      "11  0.781194   0.723718  0.909493  0.806040      all   mix_all\n",
      "12  0.812080   0.792067  0.846229  0.818253     spec  original\n",
      "13  0.812080   0.792067  0.846229  0.818253      all  original\n",
      "IMDB_bertbase\n",
      "    accuracy  precision   recall        f1 data set      spec\n",
      "0    0.92612   0.916165  0.93808  0.926993     spec     N_pro\n",
      "1    0.92712   0.918024  0.93800  0.927904      all     N_pro\n",
      "2    0.93576   0.938073  0.93312  0.935590     spec    N_weat\n",
      "3    0.93508   0.938341  0.93136  0.934838      all    N_weat\n",
      "4    0.93168   0.944554  0.91720  0.930676     spec     N_all\n",
      "5    0.93300   0.945437  0.91904  0.932051      all     N_all\n",
      "6    0.92926   0.924321  0.93508  0.929669     spec   mix_pro\n",
      "7    0.92952   0.924830  0.93504  0.929907      all   mix_pro\n",
      "8    0.92502   0.914718  0.93744  0.925940     spec  mix_weat\n",
      "9    0.92492   0.914540  0.93744  0.925848      all  mix_weat\n",
      "10   0.90852   0.922969  0.89144  0.906930     spec   mix_all\n",
      "11   0.90872   0.922930  0.89192  0.907160      all   mix_all\n",
      "12   0.90464   0.865040  0.95888  0.909546     spec  original\n",
      "13   0.90464   0.865040  0.95888  0.909546      all  original\n",
      "IMDB_bertlarge\n",
      "    accuracy  precision   recall        f1 data set      spec\n",
      "0    0.93344   0.946588  0.91872  0.932446     spec     N_pro\n",
      "1    0.93424   0.947486  0.91944  0.933252      all     N_pro\n",
      "2    0.93452   0.949070  0.91832  0.933442     spec    N_weat\n",
      "3    0.93420   0.949110  0.91760  0.933089      all    N_weat\n",
      "4    0.93324   0.932099  0.93456  0.933328     spec     N_all\n",
      "5    0.93328   0.932312  0.93440  0.933355      all     N_all\n",
      "6    0.92136   0.954248  0.88516  0.918406     spec   mix_pro\n",
      "7    0.92156   0.954698  0.88512  0.918594      all   mix_pro\n",
      "8    0.92798   0.926836  0.92932  0.928076     spec  mix_weat\n",
      "9    0.92816   0.926318  0.93032  0.928315      all  mix_weat\n",
      "10   0.91396   0.947621  0.87636  0.910599     spec   mix_all\n",
      "11   0.91344   0.947136  0.87576  0.910051      all   mix_all\n",
      "12   0.91488   0.914814  0.91496  0.914887     spec  original\n",
      "13   0.91488   0.914814  0.91496  0.914887      all  original\n"
     ]
    }
   ],
   "source": [
    "df_dict={}\n",
    "for elem in filenames:\n",
    "    name=elem[26:]\n",
    "    print(name)\n",
    "    curr_df = pd.read_pickle(elem)\n",
    "    print(curr_df)\n",
    "    df_dict[name]= curr_df"
   ]
  },
  {
   "cell_type": "code",
   "execution_count": null,
   "id": "0a8b3e89-adc4-43e7-b7b4-2d1ca70b198c",
   "metadata": {},
   "outputs": [],
   "source": []
  }
 ],
 "metadata": {
  "kernelspec": {
   "display_name": "Python 3.9 (tensorflow)",
   "language": "python",
   "name": "tensorflow"
  },
  "language_info": {
   "codemirror_mode": {
    "name": "ipython",
    "version": 3
   },
   "file_extension": ".py",
   "mimetype": "text/x-python",
   "name": "python",
   "nbconvert_exporter": "python",
   "pygments_lexer": "ipython3",
   "version": "3.9.7"
  }
 },
 "nbformat": 4,
 "nbformat_minor": 5
}
